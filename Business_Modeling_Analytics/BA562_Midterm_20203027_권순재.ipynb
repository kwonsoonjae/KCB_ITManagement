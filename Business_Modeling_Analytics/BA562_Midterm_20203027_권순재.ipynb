{
 "cells": [
  {
   "cell_type": "markdown",
   "metadata": {},
   "source": [
    "# BA562 중간고사 대체과제\n",
    "\n",
    "#### 20203027 권순재"
   ]
  },
  {
   "cell_type": "code",
   "execution_count": 1,
   "metadata": {},
   "outputs": [],
   "source": [
    "import pandas as pd\n",
    "import numpy as np\n",
    "import warnings\n",
    "import matplotlib.pyplot as plt\n",
    "from pandas import read_csv, set_option\n",
    "from pandas import Series\n",
    "from datetime import datetime"
   ]
  },
  {
   "cell_type": "code",
   "execution_count": 2,
   "metadata": {},
   "outputs": [
    {
     "data": {
      "text/html": [
       "<div>\n",
       "<style scoped>\n",
       "    .dataframe tbody tr th:only-of-type {\n",
       "        vertical-align: middle;\n",
       "    }\n",
       "\n",
       "    .dataframe tbody tr th {\n",
       "        vertical-align: top;\n",
       "    }\n",
       "\n",
       "    .dataframe thead th {\n",
       "        text-align: right;\n",
       "    }\n",
       "</style>\n",
       "<table border=\"1\" class=\"dataframe\">\n",
       "  <thead>\n",
       "    <tr style=\"text-align: right;\">\n",
       "      <th></th>\n",
       "      <th>Date</th>\n",
       "      <th>Code</th>\n",
       "      <th>Time</th>\n",
       "      <th>Open</th>\n",
       "      <th>High</th>\n",
       "      <th>Low</th>\n",
       "      <th>Close</th>\n",
       "      <th>Vol_count</th>\n",
       "      <th>Vol_sum</th>\n",
       "    </tr>\n",
       "  </thead>\n",
       "  <tbody>\n",
       "    <tr>\n",
       "      <th>0</th>\n",
       "      <td>20170807</td>\n",
       "      <td>HK0000054723</td>\n",
       "      <td>9010000</td>\n",
       "      <td>791</td>\n",
       "      <td>800</td>\n",
       "      <td>791</td>\n",
       "      <td>800</td>\n",
       "      <td>25713</td>\n",
       "      <td>20340198</td>\n",
       "    </tr>\n",
       "    <tr>\n",
       "      <th>1</th>\n",
       "      <td>20170807</td>\n",
       "      <td>HK0000054723</td>\n",
       "      <td>9020000</td>\n",
       "      <td>800</td>\n",
       "      <td>801</td>\n",
       "      <td>793</td>\n",
       "      <td>801</td>\n",
       "      <td>4733</td>\n",
       "      <td>3766528</td>\n",
       "    </tr>\n",
       "    <tr>\n",
       "      <th>2</th>\n",
       "      <td>20170807</td>\n",
       "      <td>HK0000054723</td>\n",
       "      <td>9030000</td>\n",
       "      <td>800</td>\n",
       "      <td>801</td>\n",
       "      <td>800</td>\n",
       "      <td>801</td>\n",
       "      <td>3372</td>\n",
       "      <td>2697672</td>\n",
       "    </tr>\n",
       "    <tr>\n",
       "      <th>3</th>\n",
       "      <td>20170807</td>\n",
       "      <td>HK0000054723</td>\n",
       "      <td>9040000</td>\n",
       "      <td>801</td>\n",
       "      <td>801</td>\n",
       "      <td>800</td>\n",
       "      <td>800</td>\n",
       "      <td>437</td>\n",
       "      <td>350001</td>\n",
       "    </tr>\n",
       "    <tr>\n",
       "      <th>4</th>\n",
       "      <td>20170807</td>\n",
       "      <td>HK0000054723</td>\n",
       "      <td>9050000</td>\n",
       "      <td>801</td>\n",
       "      <td>802</td>\n",
       "      <td>801</td>\n",
       "      <td>802</td>\n",
       "      <td>2596</td>\n",
       "      <td>2079411</td>\n",
       "    </tr>\n",
       "  </tbody>\n",
       "</table>\n",
       "</div>"
      ],
      "text/plain": [
       "       Date          Code     Time  Open  High  Low  Close  Vol_count  \\\n",
       "0  20170807  HK0000054723  9010000   791   800  791    800      25713   \n",
       "1  20170807  HK0000054723  9020000   800   801  793    801       4733   \n",
       "2  20170807  HK0000054723  9030000   800   801  800    801       3372   \n",
       "3  20170807  HK0000054723  9040000   801   801  800    800        437   \n",
       "4  20170807  HK0000054723  9050000   801   802  801    802       2596   \n",
       "\n",
       "    Vol_sum  \n",
       "0  20340198  \n",
       "1   3766528  \n",
       "2   2697672  \n",
       "3    350001  \n",
       "4   2079411  "
      ]
     },
     "execution_count": 2,
     "metadata": {},
     "output_type": "execute_result"
    }
   ],
   "source": [
    "# 데이터 불러오기\n",
    "\n",
    "df = pd.read_csv(\"Data.csv\")\n",
    "\n",
    "df.head()"
   ]
  },
  {
   "cell_type": "markdown",
   "metadata": {},
   "source": [
    "- 가장 먼저 필요한 패키지를 import하고 주어진 csv 파일을 df라는 데이터프레임으로 불러들인다."
   ]
  },
  {
   "cell_type": "markdown",
   "metadata": {},
   "source": [
    "## 1. 한국 시장 데이터만 고르기"
   ]
  },
  {
   "cell_type": "code",
   "execution_count": 3,
   "metadata": {},
   "outputs": [
    {
     "data": {
      "text/html": [
       "<div>\n",
       "<style scoped>\n",
       "    .dataframe tbody tr th:only-of-type {\n",
       "        vertical-align: middle;\n",
       "    }\n",
       "\n",
       "    .dataframe tbody tr th {\n",
       "        vertical-align: top;\n",
       "    }\n",
       "\n",
       "    .dataframe thead th {\n",
       "        text-align: right;\n",
       "    }\n",
       "</style>\n",
       "<table border=\"1\" class=\"dataframe\">\n",
       "  <thead>\n",
       "    <tr style=\"text-align: right;\">\n",
       "      <th></th>\n",
       "      <th>Date</th>\n",
       "      <th>Code</th>\n",
       "      <th>Time</th>\n",
       "      <th>Open</th>\n",
       "      <th>High</th>\n",
       "      <th>Low</th>\n",
       "      <th>Close</th>\n",
       "      <th>Vol_count</th>\n",
       "      <th>Vol_sum</th>\n",
       "    </tr>\n",
       "  </thead>\n",
       "  <tbody>\n",
       "    <tr>\n",
       "      <th>1857715</th>\n",
       "      <td>20170816</td>\n",
       "      <td>KR7273060004</td>\n",
       "      <td>14460000</td>\n",
       "      <td>2005</td>\n",
       "      <td>2005</td>\n",
       "      <td>2005</td>\n",
       "      <td>2005</td>\n",
       "      <td>4</td>\n",
       "      <td>8020</td>\n",
       "    </tr>\n",
       "    <tr>\n",
       "      <th>1857716</th>\n",
       "      <td>20170816</td>\n",
       "      <td>KR7273060004</td>\n",
       "      <td>14500000</td>\n",
       "      <td>2005</td>\n",
       "      <td>2005</td>\n",
       "      <td>2005</td>\n",
       "      <td>2005</td>\n",
       "      <td>4</td>\n",
       "      <td>8020</td>\n",
       "    </tr>\n",
       "    <tr>\n",
       "      <th>1857717</th>\n",
       "      <td>20170816</td>\n",
       "      <td>KR7273060004</td>\n",
       "      <td>14580000</td>\n",
       "      <td>2005</td>\n",
       "      <td>2005</td>\n",
       "      <td>2005</td>\n",
       "      <td>2005</td>\n",
       "      <td>200</td>\n",
       "      <td>401000</td>\n",
       "    </tr>\n",
       "    <tr>\n",
       "      <th>1857718</th>\n",
       "      <td>20170816</td>\n",
       "      <td>KR7273060004</td>\n",
       "      <td>15120000</td>\n",
       "      <td>2005</td>\n",
       "      <td>2005</td>\n",
       "      <td>2005</td>\n",
       "      <td>2005</td>\n",
       "      <td>30</td>\n",
       "      <td>60150</td>\n",
       "    </tr>\n",
       "    <tr>\n",
       "      <th>1857719</th>\n",
       "      <td>20170816</td>\n",
       "      <td>KR7273060004</td>\n",
       "      <td>15180000</td>\n",
       "      <td>2010</td>\n",
       "      <td>2010</td>\n",
       "      <td>2010</td>\n",
       "      <td>2010</td>\n",
       "      <td>1</td>\n",
       "      <td>2010</td>\n",
       "    </tr>\n",
       "  </tbody>\n",
       "</table>\n",
       "</div>"
      ],
      "text/plain": [
       "             Date          Code      Time  Open  High   Low  Close  Vol_count  \\\n",
       "1857715  20170816  KR7273060004  14460000  2005  2005  2005   2005          4   \n",
       "1857716  20170816  KR7273060004  14500000  2005  2005  2005   2005          4   \n",
       "1857717  20170816  KR7273060004  14580000  2005  2005  2005   2005        200   \n",
       "1857718  20170816  KR7273060004  15120000  2005  2005  2005   2005         30   \n",
       "1857719  20170816  KR7273060004  15180000  2010  2010  2010   2010          1   \n",
       "\n",
       "         Vol_sum  \n",
       "1857715     8020  \n",
       "1857716     8020  \n",
       "1857717   401000  \n",
       "1857718    60150  \n",
       "1857719     2010  "
      ]
     },
     "execution_count": 3,
     "metadata": {},
     "output_type": "execute_result"
    }
   ],
   "source": [
    "# Code 값이 'KR7'로 시작하는 row만 선택\n",
    "\n",
    "df_kr = df[df['Code'].str.startswith('KR7')]\n",
    "\n",
    "df_kr.tail()"
   ]
  },
  {
   "cell_type": "markdown",
   "metadata": {},
   "source": [
    "- Code 열의 값이 'KR7'으로 시작하는 행만 선택하여 df_kr이라는 데이터프레임으로 저장한다."
   ]
  },
  {
   "cell_type": "markdown",
   "metadata": {},
   "source": [
    "## 2. 주어진 데이터를 1분 단위 데이터로 만들기"
   ]
  },
  {
   "cell_type": "code",
   "execution_count": 4,
   "metadata": {},
   "outputs": [
    {
     "name": "stderr",
     "output_type": "stream",
     "text": [
      "<ipython-input-4-044b9fbfdc69>:3: SettingWithCopyWarning: \n",
      "A value is trying to be set on a copy of a slice from a DataFrame.\n",
      "Try using .loc[row_indexer,col_indexer] = value instead\n",
      "\n",
      "See the caveats in the documentation: https://pandas.pydata.org/pandas-docs/stable/user_guide/indexing.html#returning-a-view-versus-a-copy\n",
      "  df_kr['Date'] = df_kr['Date'].astype(str)\n",
      "<ipython-input-4-044b9fbfdc69>:4: SettingWithCopyWarning: \n",
      "A value is trying to be set on a copy of a slice from a DataFrame.\n",
      "Try using .loc[row_indexer,col_indexer] = value instead\n",
      "\n",
      "See the caveats in the documentation: https://pandas.pydata.org/pandas-docs/stable/user_guide/indexing.html#returning-a-view-versus-a-copy\n",
      "  df_kr['Time'] = df_kr['Time'].astype(str)\n",
      "/Users/kwonsoonjae/opt/anaconda3/lib/python3.8/site-packages/pandas/core/indexing.py:671: SettingWithCopyWarning: \n",
      "A value is trying to be set on a copy of a slice from a DataFrame\n",
      "\n",
      "See the caveats in the documentation: https://pandas.pydata.org/pandas-docs/stable/user_guide/indexing.html#returning-a-view-versus-a-copy\n",
      "  self._setitem_with_indexer(indexer, value)\n",
      "<ipython-input-4-044b9fbfdc69>:12: SettingWithCopyWarning: \n",
      "A value is trying to be set on a copy of a slice from a DataFrame.\n",
      "Try using .loc[row_indexer,col_indexer] = value instead\n",
      "\n",
      "See the caveats in the documentation: https://pandas.pydata.org/pandas-docs/stable/user_guide/indexing.html#returning-a-view-versus-a-copy\n",
      "  df_kr['Datetime'] = df_kr['Date'] + df_kr['Time']\n",
      "<ipython-input-4-044b9fbfdc69>:13: SettingWithCopyWarning: \n",
      "A value is trying to be set on a copy of a slice from a DataFrame.\n",
      "Try using .loc[row_indexer,col_indexer] = value instead\n",
      "\n",
      "See the caveats in the documentation: https://pandas.pydata.org/pandas-docs/stable/user_guide/indexing.html#returning-a-view-versus-a-copy\n",
      "  df_kr['Datetime'] = pd.to_datetime(df_kr['Datetime'], format=\"%Y%m%d%H%M%S00\")\n"
     ]
    },
    {
     "data": {
      "text/html": [
       "<div>\n",
       "<style scoped>\n",
       "    .dataframe tbody tr th:only-of-type {\n",
       "        vertical-align: middle;\n",
       "    }\n",
       "\n",
       "    .dataframe tbody tr th {\n",
       "        vertical-align: top;\n",
       "    }\n",
       "\n",
       "    .dataframe thead th {\n",
       "        text-align: right;\n",
       "    }\n",
       "</style>\n",
       "<table border=\"1\" class=\"dataframe\">\n",
       "  <thead>\n",
       "    <tr style=\"text-align: right;\">\n",
       "      <th></th>\n",
       "      <th>Code</th>\n",
       "      <th>Open</th>\n",
       "      <th>High</th>\n",
       "      <th>Low</th>\n",
       "      <th>Close</th>\n",
       "      <th>Vol_count</th>\n",
       "      <th>Vol_sum</th>\n",
       "    </tr>\n",
       "    <tr>\n",
       "      <th>Datetime</th>\n",
       "      <th></th>\n",
       "      <th></th>\n",
       "      <th></th>\n",
       "      <th></th>\n",
       "      <th></th>\n",
       "      <th></th>\n",
       "      <th></th>\n",
       "    </tr>\n",
       "  </thead>\n",
       "  <tbody>\n",
       "    <tr>\n",
       "      <th>2017-08-07 09:01:00</th>\n",
       "      <td>KR7000250001</td>\n",
       "      <td>12900</td>\n",
       "      <td>12950</td>\n",
       "      <td>12900</td>\n",
       "      <td>12950</td>\n",
       "      <td>549</td>\n",
       "      <td>7086350</td>\n",
       "    </tr>\n",
       "    <tr>\n",
       "      <th>2017-08-07 09:02:00</th>\n",
       "      <td>KR7000250001</td>\n",
       "      <td>12950</td>\n",
       "      <td>12950</td>\n",
       "      <td>12950</td>\n",
       "      <td>12950</td>\n",
       "      <td>561</td>\n",
       "      <td>7264950</td>\n",
       "    </tr>\n",
       "    <tr>\n",
       "      <th>2017-08-07 09:03:00</th>\n",
       "      <td>KR7000250001</td>\n",
       "      <td>12900</td>\n",
       "      <td>12900</td>\n",
       "      <td>12850</td>\n",
       "      <td>12850</td>\n",
       "      <td>5744</td>\n",
       "      <td>73921300</td>\n",
       "    </tr>\n",
       "    <tr>\n",
       "      <th>2017-08-07 09:04:00</th>\n",
       "      <td>KR7000250001</td>\n",
       "      <td>12850</td>\n",
       "      <td>12850</td>\n",
       "      <td>12850</td>\n",
       "      <td>12850</td>\n",
       "      <td>100</td>\n",
       "      <td>1285000</td>\n",
       "    </tr>\n",
       "    <tr>\n",
       "      <th>2017-08-07 09:05:00</th>\n",
       "      <td>KR7000250001</td>\n",
       "      <td>12850</td>\n",
       "      <td>12850</td>\n",
       "      <td>12850</td>\n",
       "      <td>12850</td>\n",
       "      <td>287</td>\n",
       "      <td>3687950</td>\n",
       "    </tr>\n",
       "  </tbody>\n",
       "</table>\n",
       "</div>"
      ],
      "text/plain": [
       "                             Code   Open   High    Low  Close  Vol_count  \\\n",
       "Datetime                                                                   \n",
       "2017-08-07 09:01:00  KR7000250001  12900  12950  12900  12950        549   \n",
       "2017-08-07 09:02:00  KR7000250001  12950  12950  12950  12950        561   \n",
       "2017-08-07 09:03:00  KR7000250001  12900  12900  12850  12850       5744   \n",
       "2017-08-07 09:04:00  KR7000250001  12850  12850  12850  12850        100   \n",
       "2017-08-07 09:05:00  KR7000250001  12850  12850  12850  12850        287   \n",
       "\n",
       "                      Vol_sum  \n",
       "Datetime                       \n",
       "2017-08-07 09:01:00   7086350  \n",
       "2017-08-07 09:02:00   7264950  \n",
       "2017-08-07 09:03:00  73921300  \n",
       "2017-08-07 09:04:00   1285000  \n",
       "2017-08-07 09:05:00   3687950  "
      ]
     },
     "execution_count": 4,
     "metadata": {},
     "output_type": "execute_result"
    }
   ],
   "source": [
    "# Date와 Time 열을 str로 변환\n",
    "\n",
    "df_kr['Date'] = df_kr['Date'].astype(str)\n",
    "df_kr['Time'] = df_kr['Time'].astype(str)\n",
    "\n",
    "# 마지막 종목의 데이터가 15:18까지밖에 없으므로 15:31 데이터 포인트를 추가\n",
    "\n",
    "df_kr.loc[1857720] = ['20170816', 'KR7273060004', '15310000', 2010, 2010, 2010, 2010, 1, 2010]\n",
    "\n",
    "# Date랑 Time 열을 합쳐서 Datetime 타입으로 변환\n",
    "\n",
    "df_kr['Datetime'] = df_kr['Date'] + df_kr['Time']\n",
    "df_kr['Datetime'] = pd.to_datetime(df_kr['Datetime'], format=\"%Y%m%d%H%M%S00\")\n",
    "\n",
    "# 1분 단위로 resampling하고 빈 자리에는 직전 값 채우기\n",
    "\n",
    "df_kr = df_kr.set_index(['Code', 'Datetime'])\n",
    "df_kr_1min = df_kr.reset_index('Code').groupby('Code', group_keys=False).resample('1T').pad()\n",
    "\n",
    "# 주말(8월 12, 13일), 공휴일(8월 15일) 제거하고 09:01 ~ 15:31 데이터만 선택\n",
    "\n",
    "df_kr_0807 = df_kr_1min.loc['2017-08-07 09:01':'2017-08-07 15:31']\n",
    "df_kr_0808 = df_kr_1min.loc['2017-08-08 09:01':'2017-08-08 15:31']\n",
    "df_kr_0809 = df_kr_1min.loc['2017-08-09 09:01':'2017-08-09 15:31']\n",
    "df_kr_0810 = df_kr_1min.loc['2017-08-10 09:01':'2017-08-10 15:31']\n",
    "df_kr_0811 = df_kr_1min.loc['2017-08-11 09:01':'2017-08-11 15:31']\n",
    "df_kr_0814 = df_kr_1min.loc['2017-08-14 09:01':'2017-08-14 15:31']\n",
    "df_kr_0816 = df_kr_1min.loc['2017-08-16 09:01':'2017-08-16 15:31']\n",
    "\n",
    "df_kr_2 = pd.concat([df_kr_0807, df_kr_0808, df_kr_0809, df_kr_0810, df_kr_0811, df_kr_0814, df_kr_0816])\n",
    "\n",
    "# 이제 필요 없는 Date와 Time 열을 제거하고 전처리가 끝난 최종 데이터를 df_final에 저장\n",
    "\n",
    "df_final = df_kr_2.drop(['Date', 'Time'], axis=1)\n",
    "\n",
    "df_final.head()"
   ]
  },
  {
   "cell_type": "markdown",
   "metadata": {},
   "source": [
    "-\t주어진 데이터를 1분 단위 데이터로 만들기 위해서, Date와 Time 열을 합쳐 datetime 타입으로 만들고 df.resample() 함수를 사용하여 upsampling하고자 한다.\n",
    "-\t먼저 Date와 Time 열의 값이 int이므로 string으로 바꿔준다.\n",
    "-\t그리고 마지막 종목의 데이터가 15:18까지밖에 없으므로 15:31까지 데이터가 들어있도록 하기 위해 15:31 데이터 포인트를 추가한다.\n",
    "-\tDate와 Time 열을 합쳐서 Datetime 열을 만들고, datetime 타입으로 변환한다.\n",
    "-\tResample을 위해 Code와 Datetime으로 multi-index를 설정한 뒤, Code로 group-by하여 각 Code마다 시간이 모두 채워질 수 있도록 한다. 1분 간격으로 upsampling한 뒤 .pad()를 사용하여 빈 자리에는 직전 값을 채워준다.\n",
    "-\t장이 열리지 않는 주말(8/12, 13)과 공휴일(8/15)을 제거하고 문제에서 주어진 대로 9시 1분 ~ 15시 31분의 데이터만 선택한다.\n",
    "-\t마지막으로 필요가 없어진 Date와 Time 열을 제거하고 최종 데이터를 df_final에 저장한다."
   ]
  },
  {
   "cell_type": "markdown",
   "metadata": {},
   "source": [
    "## 3. Technical 변수들 만들기"
   ]
  },
  {
   "cell_type": "code",
   "execution_count": 172,
   "metadata": {},
   "outputs": [
    {
     "data": {
      "text/plain": [
       "count    3.265877e+06\n",
       "mean     1.155117e+04\n",
       "std      2.728065e+04\n",
       "min      1.903000e+02\n",
       "25%      2.907500e+03\n",
       "50%      5.661500e+03\n",
       "75%      1.125000e+04\n",
       "max      5.462650e+05\n",
       "Name: MA20, dtype: float64"
      ]
     },
     "execution_count": 172,
     "metadata": {},
     "output_type": "execute_result"
    }
   ],
   "source": [
    "# Moving Average\n",
    "### n기간 동안 주가 이동의 평균치\n",
    "\n",
    "def MA(close, n=20):\n",
    "    ma = close.rolling(window=n).mean()\n",
    "    return ma\n",
    "\n",
    "df_final['MA20'] = MA(df_final['Close'], n=20)\n",
    "df_final['MA20'].describe()"
   ]
  },
  {
   "cell_type": "markdown",
   "metadata": {},
   "source": [
    "- Moving Average는 주어진 기간 동안 주가 이동의 평균치를 나타내는 지표이다. \n",
    "- rolling(window=n).mean() 함수를 사용하여 n기간 동안의 평균을 ma에 저장하고 return하는 함수 MA를 정의한다.\n",
    "- 함수 MA를 사용하여 계산한 MA20을 df_final의 MA20 열에 저장한다."
   ]
  },
  {
   "cell_type": "code",
   "execution_count": 173,
   "metadata": {},
   "outputs": [
    {
     "data": {
      "text/plain": [
       "count    3.265896e+06\n",
       "mean     1.155118e+04\n",
       "std      2.708308e+04\n",
       "min      1.905361e+02\n",
       "25%      2.964463e+03\n",
       "50%      5.701436e+03\n",
       "75%      1.126612e+04\n",
       "max      5.457438e+05\n",
       "Name: EMA12, dtype: float64"
      ]
     },
     "execution_count": 173,
     "metadata": {},
     "output_type": "execute_result"
    }
   ],
   "source": [
    "# Exponential Moving Average (EMA)\n",
    "### 최근의 데이터에 더 높은 가중치를 부여하는 지수 가중 승수를 이용하여 계산한 이동평균치\n",
    "\n",
    "def EMA(close, n=26):\n",
    "    ema = close.ewm(n).mean()\n",
    "    return ema\n",
    "\n",
    "df_final['EMA12'] = EMA(df_final['Close'], n=12)\n",
    "\n",
    "df_final['EMA12'].describe()"
   ]
  },
  {
   "cell_type": "markdown",
   "metadata": {},
   "source": [
    "- Exponential Moving Average(EMA)는 최근의 주가 이동에 더 높은 가중치를 부여하는 지수 가중 이동평균치를 나타내는 지표이다.\n",
    "- ewm(n).mean() 함수를 이용하여 n기간 동안의 지수 가중 평균을 ema에 저장하고 return하는 함수 EMA를 정의한다.\n",
    "- 함수 EMA를 사용하여 계산한 EMA12와 EMA26을 df_final의 EMA12, EMA26 열에 각각 저장한다."
   ]
  },
  {
   "cell_type": "code",
   "execution_count": 174,
   "metadata": {},
   "outputs": [
    {
     "data": {
      "text/plain": [
       "count    3.265896e+06\n",
       "mean    -4.689513e-02\n",
       "std      3.042841e+03\n",
       "min     -1.414125e+05\n",
       "25%     -1.423326e+01\n",
       "50%     -6.474290e-01\n",
       "75%      1.164311e+01\n",
       "max      1.438250e+05\n",
       "Name: MACD, dtype: float64"
      ]
     },
     "execution_count": 174,
     "metadata": {},
     "output_type": "execute_result"
    }
   ],
   "source": [
    "# MACD (Moving Average Convergence Divergence) = EMA(12) - EMA(26)\n",
    "### 이동평균선의 수렴과 발산을 분석한 보조지표\n",
    "\n",
    "def MACD(close):\n",
    "    macd = EMA(close, n=12) - EMA(close, n=26)\n",
    "    return macd\n",
    "\n",
    "df_final['MACD'] = MACD(df_final['Close'])\n",
    "df_final['MACD'].describe()"
   ]
  },
  {
   "cell_type": "markdown",
   "metadata": {},
   "source": [
    "- Moving Average Convergence Divergence(MACD)는 이동평균선의 수렴과 발산을 나타내는 지표로, EMA12 - EMA26으로 계산한다.\n",
    "- 위에서 정의한 EMA 함수를 사용하여 EMA12 - EMA26 값을 macd에 저장하고 return하는 함수 MACD를 정의한다.\n",
    "- 함수 MACD를 사용하여 계산한 MACD를 df_final의 MACD 열에 저장한다."
   ]
  },
  {
   "cell_type": "code",
   "execution_count": 175,
   "metadata": {},
   "outputs": [
    {
     "data": {
      "text/plain": [
       "count    3.265877e+06\n",
       "mean     3.012295e+02\n",
       "std      3.577898e+03\n",
       "min      0.000000e+00\n",
       "25%      4.103912e+00\n",
       "50%      1.099043e+01\n",
       "75%      2.946452e+01\n",
       "max      2.728511e+05\n",
       "Name: std_dev, dtype: float64"
      ]
     },
     "execution_count": 175,
     "metadata": {},
     "output_type": "execute_result"
    }
   ],
   "source": [
    "# Standard Deviation (window=20)\n",
    "### 종가의 표준편차\n",
    "\n",
    "def SD(close, n=20):\n",
    "    sd = close.rolling(window=n).std()\n",
    "    return sd\n",
    "\n",
    "df_final['std_dev'] = SD(df_final['Close'], n=20)\n",
    "df_final['std_dev'].describe()"
   ]
  },
  {
   "cell_type": "markdown",
   "metadata": {},
   "source": [
    "- Standard Deviation은 종가의 표준편차를 나타내는 지표이다. \n",
    "- rolling(window=n).std() 함수를 이용하여 종가의 표준편차를 sd에 저장하고 return하는 함수 SD를 정의한다.\n",
    "- 함수 SD를 사용하여 계산한 종가의 표준편차를 df_final의 std_dev 열에 저장한다. "
   ]
  },
  {
   "cell_type": "code",
   "execution_count": 176,
   "metadata": {},
   "outputs": [
    {
     "data": {
      "text/plain": [
       "count    3.265891e+06\n",
       "mean    -1.665702e-02\n",
       "std      4.291957e+03\n",
       "min     -5.243000e+05\n",
       "25%     -5.000000e+00\n",
       "50%      0.000000e+00\n",
       "75%      5.000000e+00\n",
       "max      5.372500e+05\n",
       "Name: momentum, dtype: float64"
      ]
     },
     "execution_count": 176,
     "metadata": {},
     "output_type": "execute_result"
    }
   ],
   "source": [
    "# Momentum\n",
    "### 주가의 상승탄력을 나타내는 지표로, n기간의 모멘텀 지표 = 현재 종가 - n기간 전의 종가\n",
    "\n",
    "def momentum(close, n=5):\n",
    "    momentum = close - close.shift(n)\n",
    "    return momentum\n",
    "\n",
    "df_final['momentum'] = momentum(df_final['Close'], n=5)\n",
    "df_final['momentum'].describe()"
   ]
  },
  {
   "cell_type": "markdown",
   "metadata": {},
   "source": [
    "- Momentum은 주가의 상승탄력을 나타내는 지표로, n기간의 모멘텀 지표 = 현재 종가 - n기간 전의 종가로 계산한다.\n",
    "- shift(n) 함수를 이용하여 현재 종가와 n기간 전의 종가 간 차이를 momentum에 저장하고 return하는 함수 momentum을 정의한다.\n",
    "- 함수 momentum을 사용하여 계산한 momentum을 df_final의 momentum 열에 저장한다."
   ]
  },
  {
   "cell_type": "code",
   "execution_count": 177,
   "metadata": {},
   "outputs": [
    {
     "data": {
      "text/plain": [
       "count    3.265896e+06\n",
       "mean     5.491540e+01\n",
       "std      3.134190e+02\n",
       "min      2.643374e-09\n",
       "25%      3.915704e+00\n",
       "50%      1.054450e+01\n",
       "75%      3.490942e+01\n",
       "max      2.581728e+04\n",
       "Name: ATR, dtype: float64"
      ]
     },
     "execution_count": 177,
     "metadata": {},
     "output_type": "execute_result"
    }
   ],
   "source": [
    "# Average True Range (ATR)\n",
    "### n기간 동안의 주가 변동성을 측정하는 지표로, true range의 n 이동평균\n",
    "\n",
    "def ATR(df, n=20):\n",
    "    data = df.copy()\n",
    "    high = data['High']\n",
    "    low = data['Low']\n",
    "    close = data['Close']\n",
    "    data['tr0'] = abs(high - low)\n",
    "    data['tr1'] = abs(high - close.shift())\n",
    "    data['tr2'] = abs(low - close.shift())\n",
    "    tr = data[['tr0', 'tr1', 'tr2']].max(axis=1)\n",
    "    atr = tr.ewm(n).mean()\n",
    "    return atr\n",
    "\n",
    "df_final['ATR'] = ATR(df_final, n=20)\n",
    "df_final['ATR'].describe()"
   ]
  },
  {
   "cell_type": "markdown",
   "metadata": {},
   "source": [
    "- Average True Range(ATR)은 n기간 동안의 주가 변동성을 측정하는 지표로, True Range의 n기간 지수이동평균으로 계산한다.\n",
    "- True Range를 계산하기 위해 고가와 저가의 차, 고가와 이전 종가의 차, 저가와 이전 종가의 차 중 가장 큰 값을 골라 tr에 저장하고 이를 n기간 지수이동평균으로 계산하여 atr에 저장하고 return하는 함수 ATR을 정의한다.\n",
    "- 함수 ATR을 사용하여 계산한 ATR을 df_final의 ATR 열에 저장한다."
   ]
  },
  {
   "cell_type": "code",
   "execution_count": 178,
   "metadata": {},
   "outputs": [
    {
     "data": {
      "text/plain": [
       "count    3.265877e+06\n",
       "mean     1.215363e+04\n",
       "std      2.923533e+04\n",
       "min      1.912403e+02\n",
       "25%      2.970000e+03\n",
       "50%      5.815881e+03\n",
       "75%      1.181339e+04\n",
       "max      8.805914e+05\n",
       "Name: UBB, dtype: float64"
      ]
     },
     "execution_count": 178,
     "metadata": {},
     "output_type": "execute_result"
    }
   ],
   "source": [
    "# Bollinger Band (k=2)\n",
    "# 이동평균 값에 k*표준편차를 더하고 뺀 범위\n",
    "\n",
    "def UBB(close, n=20, k=2):\n",
    "    ubb = MA(close, n) + k*SD(close, n)\n",
    "    return ubb\n",
    "    \n",
    "def LBB(close, n=20, k=2):\n",
    "    lbb = MA(close, n) - k*SD(close, n)\n",
    "    return lbb\n",
    "\n",
    "df_final['UBB'] = UBB(df_final['Close'], n=20, k=2)\n",
    "df_final['LBB'] = LBB(df_final['Close'], n=20, k=2)\n",
    "\n",
    "df_final['UBB'].describe()"
   ]
  },
  {
   "cell_type": "markdown",
   "metadata": {},
   "source": [
    "- Bollinger Band는 시간의 흐름에 따른 주가의 변동성을 반영하는 지표로, 종가의 이동평균 값에 k*표준편차를 더하고 뺀 범위를 의미한다.\n",
    "- Upper Bollinger Band(UBB)는 이동평균 + k*표준편차, Lower Bollinger Band(LBB)는 이동평균 - k*표준편차로 계산한다.\n",
    "- 각각을 계산하는 함수 UBB와 LBB를 정의하고, 이들을 사용하여 계산한 UBB와 LBB를 각각 df_final의 UBB, LBB 열에 저장한다."
   ]
  },
  {
   "cell_type": "code",
   "execution_count": 179,
   "metadata": {},
   "outputs": [
    {
     "data": {
      "text/plain": [
       "count    1.997956e+06\n",
       "mean     5.590989e+01\n",
       "std      3.271630e+01\n",
       "min      0.000000e+00\n",
       "25%      2.962963e+01\n",
       "50%      5.925926e+01\n",
       "75%      8.885282e+01\n",
       "max      1.000000e+02\n",
       "Name: slow_d, dtype: float64"
      ]
     },
     "execution_count": 179,
     "metadata": {},
     "output_type": "execute_result"
    }
   ],
   "source": [
    "# Stochastic Oscillator\n",
    "\n",
    "# Fast %K = ((현재가 - n기간 중 최저가) / (n기간 중 최고가 - n기간 중 최저가)) * 100\n",
    "def get_stochastic_fast_k(close, low, high, n=5):\n",
    "    fast_k = ((close - low.rolling(n).min()) / \n",
    "              (high.rolling(n).max() - low.rolling(n).min())) * 100\n",
    "    return fast_k\n",
    "\n",
    "# Slow %K = Fast %K의 m기간 이동평균(ma)\n",
    "def get_stochastic_slow_k(fast_k, m=3):\n",
    "    slow_k = fast_k.rolling(m).mean()\n",
    "    return slow_k\n",
    "\n",
    "# Slow %D = Slow %K의 t기간 이동평균(ma)\n",
    "def get_stochastic_slow_d(slow_k, t=3):\n",
    "    slow_d = slow_k.rolling(t).mean()\n",
    "    return slow_d\n",
    "\n",
    "df_final['fast_k'] = get_stochastic_fast_k(df_final['Close'], df_final['Low'], df_final['High'], n=5)\n",
    "df_final['slow_k'] = get_stochastic_slow_k(df_final['fast_k'], m=3)\n",
    "df_final['slow_d'] = get_stochastic_slow_d(df_final['slow_k'], t=3)\n",
    "\n",
    "df_final['slow_d'].describe()"
   ]
  },
  {
   "cell_type": "markdown",
   "metadata": {},
   "source": [
    "- Stochastic Oscillator는 현재 주가가 일정 기간의 주가 변동폭 중 어디에 위치하는지를 나타내는 지표이다.\n",
    "- Fast %K는 n기간 동안의 최고가와 최저가 사이에서 현재 종가의 상대적 위치를 나타낸다.\n",
    "- Slow %K는 m기간 동안의 Fast %K 이동평균 값이다.\n",
    "- Slow %D는 t기간 동안의 Slow %K의 이동평균 값이다.\n",
    "- 각각을 계산하는 함수를 정의하고 이를 활용하여 fast_k, slow_k, slow_d를 df_final에 저장한다."
   ]
  },
  {
   "cell_type": "code",
   "execution_count": 180,
   "metadata": {},
   "outputs": [
    {
     "data": {
      "text/plain": [
       "Datetime\n",
       "2017-08-07 09:01:00          549\n",
       "2017-08-07 09:02:00          549\n",
       "2017-08-07 09:03:00        -5195\n",
       "2017-08-07 09:04:00        -5195\n",
       "2017-08-07 09:05:00        -5195\n",
       "                         ...    \n",
       "2017-08-16 15:27:00   -202000332\n",
       "2017-08-16 15:28:00   -202000332\n",
       "2017-08-16 15:29:00   -202000332\n",
       "2017-08-16 15:30:00   -202000332\n",
       "2017-08-16 15:31:00   -202000332\n",
       "Name: OBV, Length: 3265896, dtype: int64"
      ]
     },
     "execution_count": 180,
     "metadata": {},
     "output_type": "execute_result"
    }
   ],
   "source": [
    "# On Balance Volume (OBV)\n",
    "### 거래량의 누계를 종가의 전일 대비 등락폭에 따라서 계산하는 지표\n",
    "### Series 연산이 너무 느려 List로 변환 후 계산\n",
    "\n",
    "def OBV(close, volume):\n",
    "    obv_value = [None] * len(close)\n",
    "    obv_value[0] = volume.iloc[0]\n",
    "    index = close.index\n",
    "    \n",
    "    close = list(close)\n",
    "    volume = list(volume)\n",
    "    \n",
    "    for i in range(1, len(close)):\n",
    "        if close[i] > close[i-1]:\n",
    "            obv_value[i] = obv_value[i-1] + volume[i]\n",
    "            \n",
    "        elif close[i] < close[i-1]:\n",
    "            obv_value[i] = obv_value[i-1] - volume[i]\n",
    "        \n",
    "        else: \n",
    "            obv_value[i] = obv_value[i-1]\n",
    "    \n",
    "    obv = pd.Series(obv_value, index=index)\n",
    "    return obv\n",
    "\n",
    "df_final['OBV'] = OBV(df_final['Close'], df_final['Vol_count'])\n",
    "\n",
    "df_final['OBV']"
   ]
  },
  {
   "cell_type": "markdown",
   "metadata": {},
   "source": [
    "- On Balance Move(OBV)는 거래량의 누계를 종가의 전일 대비 등락폭에 따라서 계산하는 지표이다.\n",
    "- Series의 연산이 너무 느려 close와 volume을 list로 변환한 뒤, 종가가 상승했다면 obv_value에 현재 volume을 더하고, 종가가 하락했다면 obv_value에 현재 volume을 빼고, 종가가 그대로라면 obv_value를 유지한다. 이를 Series로 다시 변환하여 obv로 return한다.\n",
    "- OBV 함수를 이용하여 OBV를 계산하고 df_final에 저장한다."
   ]
  },
  {
   "cell_type": "code",
   "execution_count": 181,
   "metadata": {},
   "outputs": [
    {
     "data": {
      "text/plain": [
       "count    3.265882e+06\n",
       "mean     7.557847e+01\n",
       "std      1.626832e+04\n",
       "min     -7.663770e+04\n",
       "25%     -2.349624e-02\n",
       "50%      0.000000e+00\n",
       "75%      4.283987e-02\n",
       "max      7.502143e+06\n",
       "Name: EOM, dtype: float64"
      ]
     },
     "execution_count": 181,
     "metadata": {},
     "output_type": "execute_result"
    }
   ],
   "source": [
    "# Ease of Movement (EOM)\n",
    "### 주가와 거래량 간의 상관관계를 나타내 기본 추세의 강도를 평가하는 지표\n",
    "\n",
    "def EOM(high, low, volume, n=14):\n",
    "    distance_moved = ((high + low)/2) - ((high.shift() + low.shift())/2)\n",
    "    box_ratio = volume / (high - low)\n",
    "    \n",
    "    eom = distance_moved / box_ratio\n",
    "    eom_n = eom.rolling(n).mean()\n",
    "    \n",
    "    return eom_n\n",
    "\n",
    "df_final['EOM'] = EOM(df_final['High'], df_final['Low'], df_final['Vol_count'], 14)\n",
    "df_final['EOM'].describe()"
   ]
  },
  {
   "cell_type": "markdown",
   "metadata": {},
   "source": [
    "- Ease of Movement(EOM)은 주가와 거래량 간의 상관관계를 나타내 기본 추세의 강도를 평가하는 지표이다.\n",
    "- 현재 고가와 저가의 평균, 이전 고가와 저가의 평균 간 차이를 distance_moved에, 거래량을 고가와 저가의 차이로 나눈 값을 box_ratio에 저장한다. distance_moved를 box_ratio로 나눈 값을 n기간 이동평균내어 eom_n으로 return한다.\n",
    "- EOM 함수를 사용하여 계산한 EOM을 df_final에 저장한다."
   ]
  },
  {
   "cell_type": "code",
   "execution_count": 182,
   "metadata": {},
   "outputs": [
    {
     "data": {
      "text/plain": [
       "count    2.856462e+06\n",
       "mean     4.929130e-01\n",
       "std      2.694794e-01\n",
       "min      0.000000e+00\n",
       "25%      3.333333e-01\n",
       "50%      5.000000e-01\n",
       "75%      6.250000e-01\n",
       "max      1.000000e+00\n",
       "Name: RSI, dtype: float64"
      ]
     },
     "execution_count": 182,
     "metadata": {},
     "output_type": "execute_result"
    }
   ],
   "source": [
    "# Relative Strength Index (RSI)\n",
    "### 현재 추세의 힘을 0~1로 나타낸 수치로, 과매수/과매도 상태를 평가하는 지표\n",
    "\n",
    "def RSI(close, n=14):\n",
    "    U = np.where(close.diff(1) > 0, close.diff(1), 0)\n",
    "    D = np.where(close.diff(1) < 0, close.diff(1)*(-1), 0)\n",
    "    AU = pd.DataFrame(U, index=close.index).rolling(window=n, min_periods=n).mean()\n",
    "    AD = pd.DataFrame(D, index=close.index).rolling(window=n, min_periods=n).mean()\n",
    "    RSI = AU / (AD+AU)\n",
    "    return RSI\n",
    "\n",
    "df_final['RSI'] = RSI(df_final['Close'], n=14)\n",
    "df_final['RSI'].describe()"
   ]
  },
  {
   "cell_type": "markdown",
   "metadata": {},
   "source": [
    "- Relative Strength Index(RSI)는 현재 추세의 힘을 나타낸 수치로, 과매수/과매도 상태를 평가하는 지표이다.\n",
    "- U에는 종가가 상승한 부분은 종가 상승폭을, 그렇지 않은 부분은 0을 채워 넣는다.\n",
    "- D에는 종가가 하락한 부분은 종가 하락폭을, 그렇지 않은 부분은 0을 채워 넣는다.\n",
    "- 각각의 n기간 이동평균을 계산하여 AU, AD를 만들고 AU/(AU+AD)로 RSI를 계산한다.\n",
    "- RSI 함수를 사용하여 계산한 RSI를 df_final에 저장한다."
   ]
  },
  {
   "cell_type": "code",
   "execution_count": 183,
   "metadata": {},
   "outputs": [
    {
     "data": {
      "text/plain": [
       "count    3.265896e+06\n",
       "mean     9.978694e+01\n",
       "std      2.632520e+01\n",
       "min      5.572772e-01\n",
       "25%      9.965997e+01\n",
       "50%      9.998578e+01\n",
       "75%      1.002265e+02\n",
       "max      1.784859e+03\n",
       "Name: disparity, dtype: float64"
      ]
     },
     "execution_count": 183,
     "metadata": {},
     "output_type": "execute_result"
    }
   ],
   "source": [
    "# 창작지표 1. Disparity\n",
    "### 이동평균에서 주가가 얼마나 떨어져있는지를 나타내는 지표\n",
    "\n",
    "def disparity(close, n=20):\n",
    "    disparity = (close / EMA(close, n)) * 100\n",
    "    return disparity\n",
    "\n",
    "df_final['disparity'] = disparity(df_final['Close'], n=20)\n",
    "df_final['disparity'].describe()"
   ]
  },
  {
   "cell_type": "markdown",
   "metadata": {},
   "source": [
    "- 첫번째 창작지표는 disparity로, 이동평균에서 주가가 얼마나 떨어져있는지를 나타내는 지표이다.\n",
    "- 종가를 n기간 이동평균으로 나눈 뒤 100을 곱하여 계산한다.\n",
    "- disparity 함수를 사용하여 계산한 disparity를 df_final에 저장한다."
   ]
  },
  {
   "cell_type": "code",
   "execution_count": 184,
   "metadata": {},
   "outputs": [
    {
     "data": {
      "text/plain": [
       "count    3.265887e+06\n",
       "mean     1.431158e+01\n",
       "std      1.342061e+01\n",
       "min      0.000000e+00\n",
       "25%      0.000000e+00\n",
       "50%      1.000000e+01\n",
       "75%      2.000000e+01\n",
       "max      1.000000e+02\n",
       "Name: psycho_line, dtype: float64"
      ]
     },
     "execution_count": 184,
     "metadata": {},
     "output_type": "execute_result"
    }
   ],
   "source": [
    "# 창작지표 2. Psychological Line\n",
    "### 최근 n기간 중 주가가 상승한 기간의 비율로, 시장에서 나타나는 투자자들의 심리상태를 나타내는 지표\n",
    "\n",
    "def psycho_line(close, n=10):\n",
    "    U = np.where(close.diff(1) > 0, 1, 0)\n",
    "    psycho_line = pd.DataFrame(U, index=close.index).rolling(window=n).mean() * 100\n",
    "    return psycho_line\n",
    "\n",
    "df_final['psycho_line'] = psycho_line(df_final['Close'], n=10)\n",
    "df_final['psycho_line'].describe()"
   ]
  },
  {
   "cell_type": "markdown",
   "metadata": {},
   "source": [
    "- 두번째 창작지표는 psychological line으로, 최근 n기간 중 주가가 상승한 날의 비율을 나타낸다. 시장에서 나타나는 투자자들의 심리상태를 나타내는 지표이다.\n",
    "- U에는 종가가 상승한 기간은 1을, 그렇지 않는 기간은 0을 채워넣는다.\n",
    "- U의 n기간 이동평균을 계산한 뒤 100을 곱하여 psycho_line을 계산한다.\n",
    "- psycho_line 함수를 사용하여 계산한 psychological line을 df_final에 저장한다."
   ]
  },
  {
   "cell_type": "code",
   "execution_count": 185,
   "metadata": {},
   "outputs": [
    {
     "data": {
      "text/plain": [
       "count    3.265887e+06\n",
       "mean     7.170073e+06\n",
       "std      4.582015e+07\n",
       "min      3.680000e+02\n",
       "25%      3.318248e+05\n",
       "50%      1.333859e+06\n",
       "75%      4.182670e+06\n",
       "max      5.428675e+09\n",
       "Name: AMF, dtype: float64"
      ]
     },
     "execution_count": 185,
     "metadata": {},
     "output_type": "execute_result"
    }
   ],
   "source": [
    "# 창작지표 3. Average Money Flow (AMF)\n",
    "### 주어진 기간 동안 거래된 거래액의 평균을 나타내는 지표\n",
    "\n",
    "def AMF(open, close, volume, n=10):\n",
    "    mf = ((open + close)/2) * volume\n",
    "    amf = mf.rolling(window=n).mean()\n",
    "    return amf\n",
    "\n",
    "df_final['AMF'] = AMF(df_final['Open'], df_final['Close'], df_final['Vol_count'], n=10)\n",
    "df_final['AMF'].describe()"
   ]
  },
  {
   "cell_type": "markdown",
   "metadata": {},
   "source": [
    "- 세번째 창작지표는 Average Money Flow(AMF)로, n기간 동안 거래된 거래액의 평균을 나타내는 지표이다.\n",
    "- 시가와 종가의 평균에 거래량을 곱해 mf를 계산한 뒤, n기간 이동평균내어 amf를 계산한다.\n",
    "- AMF 함수를 사용하여 계산한 AMF를 df_final에 저장한다."
   ]
  },
  {
   "cell_type": "code",
   "execution_count": 186,
   "metadata": {},
   "outputs": [
    {
     "data": {
      "text/html": [
       "<div>\n",
       "<style scoped>\n",
       "    .dataframe tbody tr th:only-of-type {\n",
       "        vertical-align: middle;\n",
       "    }\n",
       "\n",
       "    .dataframe tbody tr th {\n",
       "        vertical-align: top;\n",
       "    }\n",
       "\n",
       "    .dataframe thead th {\n",
       "        text-align: right;\n",
       "    }\n",
       "</style>\n",
       "<table border=\"1\" class=\"dataframe\">\n",
       "  <thead>\n",
       "    <tr style=\"text-align: right;\">\n",
       "      <th></th>\n",
       "      <th>Open</th>\n",
       "      <th>High</th>\n",
       "      <th>Low</th>\n",
       "      <th>Close</th>\n",
       "      <th>Vol_count</th>\n",
       "      <th>Vol_sum</th>\n",
       "      <th>MA20</th>\n",
       "      <th>EMA12</th>\n",
       "      <th>EMA26</th>\n",
       "      <th>MACD</th>\n",
       "      <th>...</th>\n",
       "      <th>LBB</th>\n",
       "      <th>fast_k</th>\n",
       "      <th>slow_k</th>\n",
       "      <th>slow_d</th>\n",
       "      <th>OBV</th>\n",
       "      <th>EOM</th>\n",
       "      <th>RSI</th>\n",
       "      <th>disparity</th>\n",
       "      <th>psycho_line</th>\n",
       "      <th>AMF</th>\n",
       "    </tr>\n",
       "  </thead>\n",
       "  <tbody>\n",
       "    <tr>\n",
       "      <th>count</th>\n",
       "      <td>3.265896e+06</td>\n",
       "      <td>3.265896e+06</td>\n",
       "      <td>3.265896e+06</td>\n",
       "      <td>3.265896e+06</td>\n",
       "      <td>3.265896e+06</td>\n",
       "      <td>3.265896e+06</td>\n",
       "      <td>3.265877e+06</td>\n",
       "      <td>3.265896e+06</td>\n",
       "      <td>3.265896e+06</td>\n",
       "      <td>3.265896e+06</td>\n",
       "      <td>...</td>\n",
       "      <td>3.265877e+06</td>\n",
       "      <td>2.431008e+06</td>\n",
       "      <td>2.214482e+06</td>\n",
       "      <td>1.997956e+06</td>\n",
       "      <td>3.265896e+06</td>\n",
       "      <td>3.265882e+06</td>\n",
       "      <td>2.856462e+06</td>\n",
       "      <td>3.265896e+06</td>\n",
       "      <td>3.265887e+06</td>\n",
       "      <td>3.265887e+06</td>\n",
       "    </tr>\n",
       "    <tr>\n",
       "      <th>mean</th>\n",
       "      <td>1.154928e+04</td>\n",
       "      <td>1.155776e+04</td>\n",
       "      <td>1.154180e+04</td>\n",
       "      <td>1.155114e+04</td>\n",
       "      <td>1.620793e+03</td>\n",
       "      <td>7.167639e+06</td>\n",
       "      <td>1.155117e+04</td>\n",
       "      <td>1.155118e+04</td>\n",
       "      <td>1.155123e+04</td>\n",
       "      <td>-4.689513e-02</td>\n",
       "      <td>...</td>\n",
       "      <td>1.094871e+04</td>\n",
       "      <td>5.535554e+01</td>\n",
       "      <td>5.566350e+01</td>\n",
       "      <td>5.590989e+01</td>\n",
       "      <td>-6.760171e+07</td>\n",
       "      <td>7.557847e+01</td>\n",
       "      <td>4.929130e-01</td>\n",
       "      <td>9.978694e+01</td>\n",
       "      <td>1.431158e+01</td>\n",
       "      <td>7.170073e+06</td>\n",
       "    </tr>\n",
       "    <tr>\n",
       "      <th>std</th>\n",
       "      <td>2.750292e+04</td>\n",
       "      <td>2.751718e+04</td>\n",
       "      <td>2.748926e+04</td>\n",
       "      <td>2.750413e+04</td>\n",
       "      <td>2.206181e+04</td>\n",
       "      <td>5.372918e+07</td>\n",
       "      <td>2.728065e+04</td>\n",
       "      <td>2.708308e+04</td>\n",
       "      <td>2.660264e+04</td>\n",
       "      <td>3.042841e+03</td>\n",
       "      <td>...</td>\n",
       "      <td>2.713254e+04</td>\n",
       "      <td>4.459066e+01</td>\n",
       "      <td>3.634969e+01</td>\n",
       "      <td>3.271630e+01</td>\n",
       "      <td>7.118198e+07</td>\n",
       "      <td>1.626832e+04</td>\n",
       "      <td>2.694794e-01</td>\n",
       "      <td>2.632520e+01</td>\n",
       "      <td>1.342061e+01</td>\n",
       "      <td>4.582015e+07</td>\n",
       "    </tr>\n",
       "    <tr>\n",
       "      <th>min</th>\n",
       "      <td>1.890000e+02</td>\n",
       "      <td>1.890000e+02</td>\n",
       "      <td>1.890000e+02</td>\n",
       "      <td>1.890000e+02</td>\n",
       "      <td>1.000000e+00</td>\n",
       "      <td>1.910000e+02</td>\n",
       "      <td>1.903000e+02</td>\n",
       "      <td>1.905361e+02</td>\n",
       "      <td>1.907858e+02</td>\n",
       "      <td>-1.414125e+05</td>\n",
       "      <td>...</td>\n",
       "      <td>-3.340016e+05</td>\n",
       "      <td>0.000000e+00</td>\n",
       "      <td>0.000000e+00</td>\n",
       "      <td>0.000000e+00</td>\n",
       "      <td>-2.020874e+08</td>\n",
       "      <td>-7.663770e+04</td>\n",
       "      <td>0.000000e+00</td>\n",
       "      <td>5.572772e-01</td>\n",
       "      <td>0.000000e+00</td>\n",
       "      <td>3.680000e+02</td>\n",
       "    </tr>\n",
       "    <tr>\n",
       "      <th>25%</th>\n",
       "      <td>2.850000e+03</td>\n",
       "      <td>2.855000e+03</td>\n",
       "      <td>2.850000e+03</td>\n",
       "      <td>2.850000e+03</td>\n",
       "      <td>7.000000e+00</td>\n",
       "      <td>4.215000e+04</td>\n",
       "      <td>2.907500e+03</td>\n",
       "      <td>2.964463e+03</td>\n",
       "      <td>3.095259e+03</td>\n",
       "      <td>-1.423326e+01</td>\n",
       "      <td>...</td>\n",
       "      <td>2.643921e+03</td>\n",
       "      <td>0.000000e+00</td>\n",
       "      <td>2.777778e+01</td>\n",
       "      <td>2.962963e+01</td>\n",
       "      <td>-1.305147e+08</td>\n",
       "      <td>-2.349624e-02</td>\n",
       "      <td>3.333333e-01</td>\n",
       "      <td>9.965997e+01</td>\n",
       "      <td>0.000000e+00</td>\n",
       "      <td>3.318248e+05</td>\n",
       "    </tr>\n",
       "    <tr>\n",
       "      <th>50%</th>\n",
       "      <td>5.610000e+03</td>\n",
       "      <td>5.620000e+03</td>\n",
       "      <td>5.610000e+03</td>\n",
       "      <td>5.610000e+03</td>\n",
       "      <td>7.000000e+01</td>\n",
       "      <td>4.699100e+05</td>\n",
       "      <td>5.661500e+03</td>\n",
       "      <td>5.701436e+03</td>\n",
       "      <td>5.788910e+03</td>\n",
       "      <td>-6.474290e-01</td>\n",
       "      <td>...</td>\n",
       "      <td>5.354401e+03</td>\n",
       "      <td>6.666667e+01</td>\n",
       "      <td>6.666667e+01</td>\n",
       "      <td>5.925926e+01</td>\n",
       "      <td>-5.355203e+07</td>\n",
       "      <td>0.000000e+00</td>\n",
       "      <td>5.000000e-01</td>\n",
       "      <td>9.998578e+01</td>\n",
       "      <td>1.000000e+01</td>\n",
       "      <td>1.333859e+06</td>\n",
       "    </tr>\n",
       "    <tr>\n",
       "      <th>75%</th>\n",
       "      <td>1.125000e+04</td>\n",
       "      <td>1.125000e+04</td>\n",
       "      <td>1.125000e+04</td>\n",
       "      <td>1.125000e+04</td>\n",
       "      <td>4.950000e+02</td>\n",
       "      <td>2.943278e+06</td>\n",
       "      <td>1.125000e+04</td>\n",
       "      <td>1.126612e+04</td>\n",
       "      <td>1.131870e+04</td>\n",
       "      <td>1.164311e+01</td>\n",
       "      <td>...</td>\n",
       "      <td>1.092158e+04</td>\n",
       "      <td>1.000000e+02</td>\n",
       "      <td>1.000000e+02</td>\n",
       "      <td>8.885282e+01</td>\n",
       "      <td>-3.406380e+06</td>\n",
       "      <td>4.283987e-02</td>\n",
       "      <td>6.250000e-01</td>\n",
       "      <td>1.002265e+02</td>\n",
       "      <td>2.000000e+01</td>\n",
       "      <td>4.182670e+06</td>\n",
       "    </tr>\n",
       "    <tr>\n",
       "      <th>max</th>\n",
       "      <td>5.500000e+05</td>\n",
       "      <td>5.500000e+05</td>\n",
       "      <td>5.475000e+05</td>\n",
       "      <td>5.476000e+05</td>\n",
       "      <td>6.467949e+06</td>\n",
       "      <td>8.688105e+09</td>\n",
       "      <td>5.462650e+05</td>\n",
       "      <td>5.457438e+05</td>\n",
       "      <td>5.439918e+05</td>\n",
       "      <td>1.438250e+05</td>\n",
       "      <td>...</td>\n",
       "      <td>5.448789e+05</td>\n",
       "      <td>1.000000e+02</td>\n",
       "      <td>1.000000e+02</td>\n",
       "      <td>1.000000e+02</td>\n",
       "      <td>2.866482e+07</td>\n",
       "      <td>7.502143e+06</td>\n",
       "      <td>1.000000e+00</td>\n",
       "      <td>1.784859e+03</td>\n",
       "      <td>1.000000e+02</td>\n",
       "      <td>5.428675e+09</td>\n",
       "    </tr>\n",
       "  </tbody>\n",
       "</table>\n",
       "<p>8 rows × 24 columns</p>\n",
       "</div>"
      ],
      "text/plain": [
       "               Open          High           Low         Close     Vol_count  \\\n",
       "count  3.265896e+06  3.265896e+06  3.265896e+06  3.265896e+06  3.265896e+06   \n",
       "mean   1.154928e+04  1.155776e+04  1.154180e+04  1.155114e+04  1.620793e+03   \n",
       "std    2.750292e+04  2.751718e+04  2.748926e+04  2.750413e+04  2.206181e+04   \n",
       "min    1.890000e+02  1.890000e+02  1.890000e+02  1.890000e+02  1.000000e+00   \n",
       "25%    2.850000e+03  2.855000e+03  2.850000e+03  2.850000e+03  7.000000e+00   \n",
       "50%    5.610000e+03  5.620000e+03  5.610000e+03  5.610000e+03  7.000000e+01   \n",
       "75%    1.125000e+04  1.125000e+04  1.125000e+04  1.125000e+04  4.950000e+02   \n",
       "max    5.500000e+05  5.500000e+05  5.475000e+05  5.476000e+05  6.467949e+06   \n",
       "\n",
       "            Vol_sum          MA20         EMA12         EMA26          MACD  \\\n",
       "count  3.265896e+06  3.265877e+06  3.265896e+06  3.265896e+06  3.265896e+06   \n",
       "mean   7.167639e+06  1.155117e+04  1.155118e+04  1.155123e+04 -4.689513e-02   \n",
       "std    5.372918e+07  2.728065e+04  2.708308e+04  2.660264e+04  3.042841e+03   \n",
       "min    1.910000e+02  1.903000e+02  1.905361e+02  1.907858e+02 -1.414125e+05   \n",
       "25%    4.215000e+04  2.907500e+03  2.964463e+03  3.095259e+03 -1.423326e+01   \n",
       "50%    4.699100e+05  5.661500e+03  5.701436e+03  5.788910e+03 -6.474290e-01   \n",
       "75%    2.943278e+06  1.125000e+04  1.126612e+04  1.131870e+04  1.164311e+01   \n",
       "max    8.688105e+09  5.462650e+05  5.457438e+05  5.439918e+05  1.438250e+05   \n",
       "\n",
       "       ...           LBB        fast_k        slow_k        slow_d  \\\n",
       "count  ...  3.265877e+06  2.431008e+06  2.214482e+06  1.997956e+06   \n",
       "mean   ...  1.094871e+04  5.535554e+01  5.566350e+01  5.590989e+01   \n",
       "std    ...  2.713254e+04  4.459066e+01  3.634969e+01  3.271630e+01   \n",
       "min    ... -3.340016e+05  0.000000e+00  0.000000e+00  0.000000e+00   \n",
       "25%    ...  2.643921e+03  0.000000e+00  2.777778e+01  2.962963e+01   \n",
       "50%    ...  5.354401e+03  6.666667e+01  6.666667e+01  5.925926e+01   \n",
       "75%    ...  1.092158e+04  1.000000e+02  1.000000e+02  8.885282e+01   \n",
       "max    ...  5.448789e+05  1.000000e+02  1.000000e+02  1.000000e+02   \n",
       "\n",
       "                OBV           EOM           RSI     disparity   psycho_line  \\\n",
       "count  3.265896e+06  3.265882e+06  2.856462e+06  3.265896e+06  3.265887e+06   \n",
       "mean  -6.760171e+07  7.557847e+01  4.929130e-01  9.978694e+01  1.431158e+01   \n",
       "std    7.118198e+07  1.626832e+04  2.694794e-01  2.632520e+01  1.342061e+01   \n",
       "min   -2.020874e+08 -7.663770e+04  0.000000e+00  5.572772e-01  0.000000e+00   \n",
       "25%   -1.305147e+08 -2.349624e-02  3.333333e-01  9.965997e+01  0.000000e+00   \n",
       "50%   -5.355203e+07  0.000000e+00  5.000000e-01  9.998578e+01  1.000000e+01   \n",
       "75%   -3.406380e+06  4.283987e-02  6.250000e-01  1.002265e+02  2.000000e+01   \n",
       "max    2.866482e+07  7.502143e+06  1.000000e+00  1.784859e+03  1.000000e+02   \n",
       "\n",
       "                AMF  \n",
       "count  3.265887e+06  \n",
       "mean   7.170073e+06  \n",
       "std    4.582015e+07  \n",
       "min    3.680000e+02  \n",
       "25%    3.318248e+05  \n",
       "50%    1.333859e+06  \n",
       "75%    4.182670e+06  \n",
       "max    5.428675e+09  \n",
       "\n",
       "[8 rows x 24 columns]"
      ]
     },
     "execution_count": 186,
     "metadata": {},
     "output_type": "execute_result"
    }
   ],
   "source": [
    "# 최종 점검\n",
    "\n",
    "df_final.describe()"
   ]
  },
  {
   "cell_type": "markdown",
   "metadata": {},
   "source": [
    "## 4. 캔들스틱 차트 만들기"
   ]
  },
  {
   "cell_type": "code",
   "execution_count": 187,
   "metadata": {},
   "outputs": [
    {
     "data": {
      "image/png": "[encoded data removed]",
      "text/plain": [
       "<Figure size 1152x864 with 1 Axes>"
      ]
     },
     "metadata": {
      "needs_background": "light"
     },
     "output_type": "display_data"
    }
   ],
   "source": [
    "#!pip install https://github.com/matplotlib/mpl_finance/archive/master.zip\n",
    "from mpl_finance import candlestick2_ohlc\n",
    "import matplotlib.ticker as ticker\n",
    "\n",
    "# 'KR727306004' 종목에 대해서 8월 7일 09:01 ~ 10:31 데이터만 선택\n",
    "data = df_final['2017-08-07 09:01':'2017-08-07 10:31']\n",
    "data = data.loc[data['Code'] == 'KR7273060004']\n",
    "\n",
    "index = data.index.astype('str')\n",
    "\n",
    "# 차트 크기 조정\n",
    "fig, ax = plt.subplots(figsize=(16,12)) \n",
    "\n",
    "# mpl_finance 패키지의 candlestick2_ohlc 함수를 사용해서 캔들스틱 차트 생성\n",
    "candlestick2_ohlc(ax, data['Open'], data['High'],\n",
    "                  data['Low'], data['Close'], width=0.6)\n",
    "\n",
    "ax.xaxis.set_major_locator(ticker.MaxNLocator(6))\n",
    "\n",
    "# x축을 날짜로 나타내기 위한 날짜 인덱싱 함수\n",
    "def mydate(x,pos):\n",
    "    try:\n",
    "        return index[int(x-0.5)]\n",
    "    except IndexError:\n",
    "        return ''\n",
    "\n",
    "ax.xaxis.set_major_formatter(ticker.FuncFormatter(mydate))\n",
    "\n",
    "# 차트 타이틀 지정\n",
    "plt.title('Candlestick Chart (NH SPAC 12, 8/7 09:01 ~ 10:31)', y=1.05, size=25)\n",
    "\n",
    "fig.autofmt_xdate()\n",
    "plt.show()"
   ]
  },
  {
   "cell_type": "markdown",
   "metadata": {},
   "source": [
    "- matplotlib의 mpl_finance 패키지 내 candlestick2_ohlc 함수를 사용하여 캔들스틱 차트를 만든다.\n",
    "- 가독성을 높이기 위해 임의로 한 종목(KR727306004)을 선택하고, 8월 7일 09:01 ~ 10:31 데이터만 추출하여 data에 저장한다.\n",
    "- candlestick2_ohlc 함수를 사용하기 위해 index를 string으로 바꾸고, x축을 날짜로 나타내기 위하여 ticker.FuncFormatter 함수에 새롭게 정의한 mydate 함수를 사용한다."
   ]
  },
  {
   "cell_type": "markdown",
   "metadata": {},
   "source": [
    "### EoD."
   ]
  }
 ],
 "metadata": {
  "kernelspec": {
   "display_name": "Python 3",
   "language": "python",
   "name": "python3"
  },
  "language_info": {
   "codemirror_mode": {
    "name": "ipython",
    "version": 3
   },
   "file_extension": ".py",
   "mimetype": "text/x-python",
   "name": "python",
   "nbconvert_exporter": "python",
   "pygments_lexer": "ipython3",
   "version": "3.8.3"
  }
 },
 "nbformat": 4,
 "nbformat_minor": 4
}
